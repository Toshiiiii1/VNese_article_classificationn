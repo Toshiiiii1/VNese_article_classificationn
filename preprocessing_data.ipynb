{
 "cells": [
  {
   "cell_type": "code",
   "execution_count": null,
   "metadata": {},
   "outputs": [],
   "source": [
    "from sklearn.datasets import load_files\n",
    "import matplotlib.pyplot as plt\n",
    "import seaborn as sns\n",
    "import numpy as np\n",
    "import re\n",
    "import unicodedata\n",
    "import underthesea\n",
    "import pandas as pd"
   ]
  },
  {
   "cell_type": "markdown",
   "metadata": {},
   "source": [
    "Load data"
   ]
  },
  {
   "cell_type": "code",
   "execution_count": null,
   "metadata": {},
   "outputs": [],
   "source": [
    "train_set = load_files(container_path=\"./data/train_set/\", encoding=\"utf-8\", decode_error=\"replace\")\n",
    "test_set = load_files(container_path=\"./data/test_set/\", encoding=\"utf-8\", decode_error=\"replace\")\n",
    "val_set = load_files(container_path=\"./data/val_set/\", encoding=\"utf-8\", decode_error=\"replace\")"
   ]
  },
  {
   "cell_type": "markdown",
   "metadata": {},
   "source": [
    "# Display data"
   ]
  },
  {
   "cell_type": "markdown",
   "metadata": {},
   "source": [
    "Display the number of samples in each set"
   ]
  },
  {
   "cell_type": "code",
   "execution_count": null,
   "metadata": {},
   "outputs": [],
   "source": [
    "sets = [\"Train set\", \"Test set\", \"Validation set\"]\n",
    "num_of_samples = [len(train_set[\"data\"]), len(test_set[\"data\"]), len(val_set[\"data\"])]\n",
    "\n",
    "sns.set_style(\"whitegrid\")\n",
    "plt.figure(figsize=(7, 5))\n",
    "sns.barplot(x=sets, y=num_of_samples, palette=\"viridis\")\n",
    "plt.title(\"Number of samples in each set\")\n",
    "plt.xticks(rotation=45)\n",
    "plt.tight_layout()\n",
    "plt.show()"
   ]
  },
  {
   "cell_type": "markdown",
   "metadata": {},
   "source": [
    "Display number of samples per class in train set"
   ]
  },
  {
   "cell_type": "code",
   "execution_count": null,
   "metadata": {},
   "outputs": [],
   "source": [
    "classes = train_set[\"target_names\"]\n",
    "temp, num_of_samples = np.unique(train_set[\"target\"], return_counts=True)\n",
    "\n",
    "sns.set_style(\"whitegrid\")\n",
    "plt.figure(figsize=(7, 5))\n",
    "sns.barplot(x=classes, y=num_of_samples, palette=\"viridis\")\n",
    "plt.title(\"Number of samples in each class\")\n",
    "plt.xticks(rotation=45)\n",
    "plt.tight_layout()\n",
    "plt.show()"
   ]
  },
  {
   "cell_type": "markdown",
   "metadata": {},
   "source": [
    "Display number of samples per class in test set"
   ]
  },
  {
   "cell_type": "code",
   "execution_count": null,
   "metadata": {},
   "outputs": [],
   "source": [
    "classes = test_set[\"target_names\"]\n",
    "temp, num_of_samples = np.unique(test_set[\"target\"], return_counts=True)\n",
    "\n",
    "sns.set_style(\"whitegrid\")\n",
    "plt.figure(figsize=(7, 5))\n",
    "sns.barplot(x=classes, y=num_of_samples, palette=\"viridis\")\n",
    "plt.title(\"Number of samples in each class\")\n",
    "plt.xticks(rotation=45)\n",
    "plt.tight_layout()\n",
    "plt.show()"
   ]
  },
  {
   "cell_type": "markdown",
   "metadata": {},
   "source": [
    "Display number of samples per class in validation set"
   ]
  },
  {
   "cell_type": "code",
   "execution_count": null,
   "metadata": {},
   "outputs": [],
   "source": [
    "classes = val_set[\"target_names\"]\n",
    "temp, num_of_samples = np.unique(val_set[\"target\"], return_counts=True)\n",
    "\n",
    "sns.set_style(\"whitegrid\")\n",
    "plt.figure(figsize=(7, 5))\n",
    "sns.barplot(x=classes, y=num_of_samples, palette=\"viridis\")\n",
    "plt.title(\"Number of samples in each class\")\n",
    "plt.xticks(rotation=45)\n",
    "plt.tight_layout()\n",
    "plt.show()"
   ]
  },
  {
   "cell_type": "markdown",
   "metadata": {},
   "source": [
    "# Preprocessing data"
   ]
  },
  {
   "cell_type": "markdown",
   "metadata": {},
   "source": [
    "Remove punctuations and numbers"
   ]
  },
  {
   "cell_type": "code",
   "execution_count": null,
   "metadata": {},
   "outputs": [],
   "source": [
    "def remove_punctuation_and_number(text):\n",
    "    sample = unicodedata.normalize(\"NFC\", text)\n",
    "    sample = re.sub(r\"[^a-zA-ZàáảãạâầấẩẫậăằắẳẵặèéẻẽẹêềếểễệđìíỉĩịòóỏõọôồốổỗộơờớởỡợùúủũụưừứửữựỳýỷỹỵÀÁẢÃẠÂẦẤẨẪẬĂẰẮẲẴẶÈÉẺẼẸÊỀẾỂỄỆĐÌÍỈĨỊÒÓỎÕỌÔỒỐỔỖỘƠỜỚỞỠỢÙÚỦŨỤƯỪỨỬỮỰỲÝỶỸỴÂĂĐÔƠƯ ]\", \" \", sample)\n",
    "    sample = re.sub(r'\\s+', \" \", sample)\n",
    "    sample = sample.replace(\"nlđo\", \"\").strip(\" \")\n",
    "    sample = sample.replace(\"NLĐO\", \"\").strip(\" \")\n",
    "    return sample.lower().strip()"
   ]
  },
  {
   "cell_type": "code",
   "execution_count": 22,
   "metadata": {},
   "outputs": [],
   "source": [
    "def preprocessing_data(path):\n",
    "    data = load_files(container_path=f\"./data/{path}/\", encoding=\"utf-8\", decode_error=\"replace\")\n",
    "    preprocessed_data = [remove_punctuation_and_number(text) for text in data.data]\n",
    "    df = pd.DataFrame({\"article\": preprocessed_data, \"label\": data.target})\n",
    "    df['word_count'] = df['article'].apply(lambda x: len(str(x).split()))\n",
    "    df = df[df['word_count'] >= 10]\n",
    "    df = df.drop(columns=[\"word_count\"])\n",
    "    df.to_csv(f\"./data/{path}.csv\", encoding=\"utf-8\", index=False)"
   ]
  },
  {
   "cell_type": "code",
   "execution_count": 23,
   "metadata": {},
   "outputs": [],
   "source": [
    "preprocessing_data(\"train_set\")\n",
    "preprocessing_data(\"test_set\")\n",
    "preprocessing_data(\"val_set\")"
   ]
  }
 ],
 "metadata": {
  "kernelspec": {
   "display_name": "vm",
   "language": "python",
   "name": "python3"
  },
  "language_info": {
   "codemirror_mode": {
    "name": "ipython",
    "version": 3
   },
   "file_extension": ".py",
   "mimetype": "text/x-python",
   "name": "python",
   "nbconvert_exporter": "python",
   "pygments_lexer": "ipython3",
   "version": "3.11.8"
  }
 },
 "nbformat": 4,
 "nbformat_minor": 2
}
